{
 "cells": [
  {
   "cell_type": "markdown",
   "metadata": {},
   "source": [
    "### Data Science Job Scrapper from indeed.com"
   ]
  },
  {
   "cell_type": "code",
   "execution_count": 1,
   "metadata": {},
   "outputs": [],
   "source": [
    "import pandas as pd\n",
    "import requests\n",
    "import numpy as np\n",
    "from bs4 import BeautifulSoup"
   ]
  },
  {
   "cell_type": "code",
   "execution_count": 2,
   "metadata": {
    "scrolled": true
   },
   "outputs": [
    {
     "name": "stdout",
     "output_type": "stream",
     "text": [
      "(6810, 7)\n"
     ]
    }
   ],
   "source": [
    "df = pd.DataFrame(columns=['Title','Location','Remote','Company','Salary','Rating','Summary'])\n",
    "for i in range(0,5000,10):\n",
    "    response = requests.get('https://www.indeed.co.in/jobs?q=data+science&l=india&start='+str(i))\n",
    "    soup = BeautifulSoup(response.content,'lxml')\n",
    "    jobs=soup.findAll('div',attrs={'class':'result'})\n",
    "    for job in jobs:\n",
    "        try:\n",
    "            title = job.find('a',attrs={'class':'jobtitle'})\n",
    "            title=title.text.strip()\n",
    "        except:\n",
    "            title=np.nan\n",
    "        try:\n",
    "            location = job.find(['span','div'],attrs={'class':'location'})\n",
    "            location=location.text.strip()\n",
    "        except:\n",
    "            location=np.nan\n",
    "        try:\n",
    "            remote=job.find('span',attrs={'class':'remote'})\n",
    "            remote=remote.text.strip()\n",
    "        except:\n",
    "            remote=np.nan\n",
    "        try:\n",
    "            company=job.find('span',attrs={'class':'company'})\n",
    "            company=company.text.strip()\n",
    "        except:\n",
    "            company = np.nan\n",
    "        try:\n",
    "            salary=job.find('span',attrs={'class':'salaryText'})\n",
    "            salary=salary.text.strip()\n",
    "        except:\n",
    "            salary=np.nan\n",
    "        try:\n",
    "            rating=job.find('span',attrs={'class':'ratingsContent'})\n",
    "            rating=rating.text.strip()\n",
    "        except:\n",
    "            rating=np.nan\n",
    "        try:\n",
    "            summary=job.find('div',attrs={'class':'summary'})\n",
    "            summary=summary.text.replace('\\n','').strip()\n",
    "        except:\n",
    "            summary = np.nan\n",
    "        df=df.append({'Title':title,'Location':location,'Remote':remote,'Company':company,'Salary':salary,'Rating':rating,'Summary':summary},ignore_index=True)\n",
    "print(df.shape)\n"
   ]
  },
  {
   "cell_type": "code",
   "execution_count": 3,
   "metadata": {},
   "outputs": [
    {
     "data": {
      "text/html": [
       "<div>\n",
       "<style scoped>\n",
       "    .dataframe tbody tr th:only-of-type {\n",
       "        vertical-align: middle;\n",
       "    }\n",
       "\n",
       "    .dataframe tbody tr th {\n",
       "        vertical-align: top;\n",
       "    }\n",
       "\n",
       "    .dataframe thead th {\n",
       "        text-align: right;\n",
       "    }\n",
       "</style>\n",
       "<table border=\"1\" class=\"dataframe\">\n",
       "  <thead>\n",
       "    <tr style=\"text-align: right;\">\n",
       "      <th></th>\n",
       "      <th>Title</th>\n",
       "      <th>Location</th>\n",
       "      <th>Remote</th>\n",
       "      <th>Company</th>\n",
       "      <th>Salary</th>\n",
       "      <th>Rating</th>\n",
       "      <th>Summary</th>\n",
       "    </tr>\n",
       "  </thead>\n",
       "  <tbody>\n",
       "    <tr>\n",
       "      <th>0</th>\n",
       "      <td>Data Scientist</td>\n",
       "      <td>Bengaluru, Karnataka</td>\n",
       "      <td>NaN</td>\n",
       "      <td>PayPal</td>\n",
       "      <td>NaN</td>\n",
       "      <td>3.9</td>\n",
       "      <td>Experience in at least one data visualization ...</td>\n",
       "    </tr>\n",
       "    <tr>\n",
       "      <th>1</th>\n",
       "      <td>Sr. Data Scientist</td>\n",
       "      <td>Chennai, Tamil Nadu</td>\n",
       "      <td>NaN</td>\n",
       "      <td>PayPal</td>\n",
       "      <td>NaN</td>\n",
       "      <td>3.9</td>\n",
       "      <td>Lead complex, multifunctional data science pro...</td>\n",
       "    </tr>\n",
       "    <tr>\n",
       "      <th>2</th>\n",
       "      <td>Data Science intern</td>\n",
       "      <td>Mumbai, Maharashtra</td>\n",
       "      <td>NaN</td>\n",
       "      <td>Caltyger</td>\n",
       "      <td>₹2,00,000 - ₹5,00,000 a year</td>\n",
       "      <td>NaN</td>\n",
       "      <td>Analyzing business requirements and crafting p...</td>\n",
       "    </tr>\n",
       "    <tr>\n",
       "      <th>3</th>\n",
       "      <td>Data Science Trainer</td>\n",
       "      <td>Pune, Maharashtra</td>\n",
       "      <td>Remote work available</td>\n",
       "      <td>Top Mentor</td>\n",
       "      <td>₹25,000 - ₹50,000 a year</td>\n",
       "      <td>NaN</td>\n",
       "      <td>Looking for data science mentor who will be tr...</td>\n",
       "    </tr>\n",
       "    <tr>\n",
       "      <th>4</th>\n",
       "      <td>Data Science Trainer</td>\n",
       "      <td>Ameerpet, Hyderabad, Telangana</td>\n",
       "      <td>Remote work available</td>\n",
       "      <td>Naresh I Technologies</td>\n",
       "      <td>₹3,00,000 - ₹5,00,000 a year</td>\n",
       "      <td>3.8</td>\n",
       "      <td>Should have a strong knowledge on R Programmin...</td>\n",
       "    </tr>\n",
       "  </tbody>\n",
       "</table>\n",
       "</div>"
      ],
      "text/plain": [
       "                  Title                        Location  \\\n",
       "0        Data Scientist            Bengaluru, Karnataka   \n",
       "1    Sr. Data Scientist             Chennai, Tamil Nadu   \n",
       "2   Data Science intern             Mumbai, Maharashtra   \n",
       "3  Data Science Trainer               Pune, Maharashtra   \n",
       "4  Data Science Trainer  Ameerpet, Hyderabad, Telangana   \n",
       "\n",
       "                  Remote                Company                        Salary  \\\n",
       "0                    NaN                 PayPal                           NaN   \n",
       "1                    NaN                 PayPal                           NaN   \n",
       "2                    NaN               Caltyger  ₹2,00,000 - ₹5,00,000 a year   \n",
       "3  Remote work available             Top Mentor      ₹25,000 - ₹50,000 a year   \n",
       "4  Remote work available  Naresh I Technologies  ₹3,00,000 - ₹5,00,000 a year   \n",
       "\n",
       "  Rating                                            Summary  \n",
       "0    3.9  Experience in at least one data visualization ...  \n",
       "1    3.9  Lead complex, multifunctional data science pro...  \n",
       "2    NaN  Analyzing business requirements and crafting p...  \n",
       "3    NaN  Looking for data science mentor who will be tr...  \n",
       "4    3.8  Should have a strong knowledge on R Programmin...  "
      ]
     },
     "execution_count": 3,
     "metadata": {},
     "output_type": "execute_result"
    }
   ],
   "source": [
    "df.head()"
   ]
  },
  {
   "cell_type": "code",
   "execution_count": 4,
   "metadata": {},
   "outputs": [],
   "source": [
    "df.to_csv('dataScienceJobs.csv',index=False)"
   ]
  },
  {
   "cell_type": "code",
   "execution_count": null,
   "metadata": {},
   "outputs": [],
   "source": []
  },
  {
   "cell_type": "code",
   "execution_count": null,
   "metadata": {},
   "outputs": [],
   "source": [
    "df."
   ]
  }
 ],
 "metadata": {
  "kernelspec": {
   "display_name": "Python 3",
   "language": "python",
   "name": "python3"
  },
  "language_info": {
   "codemirror_mode": {
    "name": "ipython",
    "version": 3
   },
   "file_extension": ".py",
   "mimetype": "text/x-python",
   "name": "python",
   "nbconvert_exporter": "python",
   "pygments_lexer": "ipython3",
   "version": "3.7.3"
  }
 },
 "nbformat": 4,
 "nbformat_minor": 2
}
